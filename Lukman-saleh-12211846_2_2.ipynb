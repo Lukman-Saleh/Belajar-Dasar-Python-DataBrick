{
 "cells": [
  {
   "cell_type": "code",
   "execution_count": 0,
   "metadata": {
    "application/vnd.databricks.v1+cell": {
     "cellMetadata": {},
     "inputWidgets": {},
     "nuid": "0fad0fc9-bf9f-4636-9a9f-658c80e3882e",
     "showTitle": false,
     "title": ""
    }
   },
   "outputs": [],
   "source": [
    "Code Hello World \n",
    "Struktur code pada Python relatif sangat sederhana dan tidak terlalu rumit seperti pada Java ataupun C. Selain karena memang mudah dibaca, python juga termasuk pada high level programming language. Sebagai contoh, cobalah ketik coding pada Code Editor dengan perintah berikut untuk mengeluarkan kata-kata yang diperintahkan. Ekskusilah perintah dari kode dibawah ini."
   ]
  },
  {
   "cell_type": "code",
   "execution_count": 0,
   "metadata": {
    "application/vnd.databricks.v1+cell": {
     "cellMetadata": {
      "byteLimit": 2048000,
      "rowLimit": 10000
     },
     "inputWidgets": {},
     "nuid": "896489ca-ae84-4d36-8ae6-31c9afa0237a",
     "showTitle": false,
     "title": ""
    }
   },
   "outputs": [
    {
     "output_type": "stream",
     "name": "stdout",
     "output_type": "stream",
     "text": [
      "Hello World\nHello World\n6\n"
     ]
    }
   ],
   "source": [
    "print (\"Hello World\")\n",
    "#Coba lanjutkan code tersebut pada baris selanjutnya dengan menggunakan kode ini :\n",
    "print (\"Hello World\")\n",
    "print(5+1)"
   ]
  },
  {
   "cell_type": "code",
   "execution_count": 0,
   "metadata": {
    "application/vnd.databricks.v1+cell": {
     "cellMetadata": {},
     "inputWidgets": {},
     "nuid": "fe93c818-ba49-4d6e-8389-bb19f95ac923",
     "showTitle": false,
     "title": ""
    }
   },
   "outputs": [],
   "source": [
    "Note : setiap print akan mencetak baris baru.\n",
    "Memang terlihat sangat sederhana jika hanya untuk kasus sederhana yang kita pelajari pada section kali ini. Namun, python tidak sesederhana itu. Biasanya kita juga menggunakan import library khusus jika sudah menyangkut masalah yang lebih kompleks. Materi berikutnya mungkin akan menjelaskan lebih lanjut."
   ]
  },
  {
   "cell_type": "code",
   "execution_count": 0,
   "metadata": {
    "application/vnd.databricks.v1+cell": {
     "cellMetadata": {
      "byteLimit": 2048000,
      "rowLimit": 10000
     },
     "inputWidgets": {},
     "nuid": "47211caa-da0a-4cbc-bc93-5c76f93a73b3",
     "showTitle": false,
     "title": ""
    }
   },
   "outputs": [
    {
     "output_type": "stream",
     "name": "stdout",
     "output_type": "stream",
     "text": [
      "Hasil Penjumlahan dari 10 x 2 + 5 adalah:  25\n"
     ]
    }
   ],
   "source": [
    "#Tugas Praktek 3.1\n",
    "# 1. Tampilkan hasil perhitungan (10*2+5) pada baris pertama.\n",
    "print (\"Hasil Penjumlahan dari 10 x 2 + 5 adalah: \",10*2+5)\n",
    "#catatan pada nomor 1 pemisahan data string(kalimat) dengan hasil(angka) menggunakan tanda ,(koma)"
   ]
  },
  {
   "cell_type": "code",
   "execution_count": 0,
   "metadata": {
    "application/vnd.databricks.v1+cell": {
     "cellMetadata": {
      "byteLimit": 2048000,
      "rowLimit": 10000
     },
     "inputWidgets": {},
     "nuid": "7278683d-4ed7-4329-b494-7b5a65d1e6ba",
     "showTitle": false,
     "title": ""
    }
   },
   "outputs": [
    {
     "output_type": "stream",
     "name": "stdout",
     "output_type": "stream",
     "text": [
      "2024 Aku kaya mulia\n"
     ]
    }
   ],
   "source": [
    "# 2. ampilkan teks \"2024 Aku kaya mulia\" pada baris kedua.\n",
    "print (\"2024 Aku kaya mulia\")"
   ]
  },
  {
   "cell_type": "code",
   "execution_count": 0,
   "metadata": {
    "application/vnd.databricks.v1+cell": {
     "cellMetadata": {
      "byteLimit": 2048000,
      "rowLimit": 10000
     },
     "inputWidgets": {},
     "nuid": "78acea90-5497-4130-b03c-daf1c24af482",
     "showTitle": false,
     "title": ""
    }
   },
   "outputs": [
    {
     "output_type": "stream",
     "name": "stdout",
     "output_type": "stream",
     "text": [
      "Lukman Saleh\n"
     ]
    }
   ],
   "source": [
    "# 3. Tampilkan teks Nama anda\n",
    "print (\"Lukman Saleh\")"
   ]
  }
 ],
 "metadata": {
  "application/vnd.databricks.v1+notebook": {
   "dashboards": [],
   "language": "python",
   "notebookMetadata": {
    "pythonIndentUnit": 4
   },
   "notebookName": "Lukman-saleh-12211846_2_2",
   "widgets": {}
  }
 },
 "nbformat": 4,
 "nbformat_minor": 0
}
