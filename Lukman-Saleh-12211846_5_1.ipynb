{
 "cells": [
  {
   "cell_type": "code",
   "execution_count": 0,
   "metadata": {
    "application/vnd.databricks.v1+cell": {
     "cellMetadata": {},
     "inputWidgets": {},
     "nuid": "dd6019bd-a29c-4e60-a00a-0a921fd6beeb",
     "showTitle": false,
     "title": ""
    }
   },
   "outputs": [],
   "source": [
    "Soal 5.1.1\n",
    "\n",
    "Berikut ini adalah potongan kode implementasi fungsi luas_limas_segi_empat()\n",
    "\n",
    "print(\"Luas : %d\" % luas_limas_segi_empat(Alas_limas, Tinggi_limas))​\n",
    "Lengkapilah kode tersebut dengan merancang sebuah fungsi agar bisa diimplementasikan sesuai dengan statment potongan kode diatas. dengan mengetikan pada code cell di bawah ini pada editor."
   ]
  },
  {
   "cell_type": "code",
   "execution_count": 0,
   "metadata": {
    "application/vnd.databricks.v1+cell": {
     "cellMetadata": {
      "byteLimit": 2048000,
      "rowLimit": 10000
     },
     "inputWidgets": {},
     "nuid": "6fdd3f15-9d59-4353-8a15-7a5cf0423798",
     "showTitle": false,
     "title": ""
    }
   },
   "outputs": [
    {
     "output_type": "display_data",
     "data": {
      "text/plain": [
       "Masukkan nilai Sisi alas:  5"
      ]
     },
     "metadata": {},
     "output_type": "display_data"
    },
    {
     "output_type": "display_data",
     "data": {
      "text/plain": [
       "masukkan tinggi limas:  8"
      ]
     },
     "metadata": {},
     "output_type": "display_data"
    },
    {
     "output_type": "stream",
     "name": "stdout",
     "output_type": "stream",
     "text": [
      "Luas limas Segi Empat yang dihitung adalah:  105.0\n"
     ]
    }
   ],
   "source": [
    "#Jawab\n",
    "s = int(input(\"Masukkan nilai Sisi alas: \"))#input nilai sisi alas\n",
    "t = int(input(\"masukkan tinggi limas: \"))#input tinggi limas\n",
    "luas_limas_segi_empat = (s * s) + (4 * (0.5 * s * t)) #Rumus Luas limas segi empat. \n",
    "print(\"Luas limas Segi Empat yang dihitung adalah: \",luas_limas_segi_empat)"
   ]
  }
 ],
 "metadata": {
  "application/vnd.databricks.v1+notebook": {
   "dashboards": [],
   "language": "python",
   "notebookMetadata": {
    "pythonIndentUnit": 4
   },
   "notebookName": "Lukman-Saleh-12211846_5_1",
   "widgets": {}
  }
 },
 "nbformat": 4,
 "nbformat_minor": 0
}
