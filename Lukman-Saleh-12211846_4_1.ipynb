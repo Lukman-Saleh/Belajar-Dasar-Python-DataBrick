{
 "cells": [
  {
   "cell_type": "code",
   "execution_count": 0,
   "metadata": {
    "application/vnd.databricks.v1+cell": {
     "cellMetadata": {},
     "inputWidgets": {},
     "nuid": "8b31d67c-455b-49e6-889a-febfc0a60744",
     "showTitle": false,
     "title": ""
    }
   },
   "outputs": [],
   "source": [
    "Praktek Operasi Matematika\n",
    "\n",
    "Pada praktek ini kita akan mencoba semua operator matematika.\n",
    "\n",
    "Praktek pada sesi kali ini akan menekankan bagaimana menggunakan operator langsung diimplementasikan dengan variable.\n",
    "\n",
    "Implementasikan code di bawah ini pada kode cell editor:"
   ]
  },
  {
   "cell_type": "code",
   "execution_count": 0,
   "metadata": {
    "application/vnd.databricks.v1+cell": {
     "cellMetadata": {
      "byteLimit": 2048000,
      "rowLimit": 10000
     },
     "inputWidgets": {},
     "nuid": "3e09c742-2c25-4fca-a4e1-891164365392",
     "showTitle": false,
     "title": ""
    }
   },
   "outputs": [
    {
     "output_type": "stream",
     "name": "stdout",
     "output_type": "stream",
     "text": [
      "Hasil penjumlahan dan b adalah 15\nSelisih a dan b adalah : 5\nHasil perkalian a dan b adalah : 50\nHasil  pembagian a dan b adalah: 2.0\n"
     ]
    }
   ],
   "source": [
    "a=10\n",
    "b=5\n",
    "selisih = a-b\n",
    "jumlah = a+b\n",
    "kali = a*b\n",
    "bagi = a/b\n",
    "print(\"Hasil penjumlahan dan b adalah\", jumlah)\n",
    "print(\"Selisih a dan b adalah :\",selisih)\n",
    "print(\"Hasil perkalian a dan b adalah :\",kali)\n",
    "print(\"Hasil  pembagian a dan b adalah:\",bagi)"
   ]
  }
 ],
 "metadata": {
  "application/vnd.databricks.v1+notebook": {
   "dashboards": [],
   "language": "python",
   "notebookMetadata": {
    "pythonIndentUnit": 4
   },
   "notebookName": "Lukman-Saleh-12211846_4_1",
   "widgets": {}
  }
 },
 "nbformat": 4,
 "nbformat_minor": 0
}
