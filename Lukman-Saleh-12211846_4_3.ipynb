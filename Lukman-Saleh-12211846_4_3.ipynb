{
 "cells": [
  {
   "cell_type": "code",
   "execution_count": 0,
   "metadata": {
    "application/vnd.databricks.v1+cell": {
     "cellMetadata": {},
     "inputWidgets": {},
     "nuid": "27f89383-6e0e-4602-b235-1dbf025dd398",
     "showTitle": false,
     "title": ""
    }
   },
   "outputs": [],
   "source": [
    "if ... :\n",
    "    print(\"angka termasuk bilangan genap\")\n",
    "else:\n",
    "    print(\"angka termasuk bilangan ganjil\")\n",
    "Buatlah sebuah program yang bisa menentukan suatu nilai pada variable itu genap atau ganjil! Lakukan percobaan dengan langkah berikut:\n",
    "\n",
    "Buat variabel dengan nama “angka” isi dengan nilai 10 Ganti bagian … dengan perhitungan untuk menentukan angka modulus 2 bernilai 0.\n",
    "\n",
    "Buat variabel dengan nama “angka” isi dengan nilai 10\n",
    "Ganti bagian … dengan perhitungan untuk menentukan angka modulus 2 bernilai 0.\n",
    "Cek apakah benar dia bernilai genap maka keluarkan \"angka termasuk bilangan genap\", jika sudah ganti nilai variable angka dengan nilai 5 cek lagi apakah dia bernilai ganjil dan keluarkan \"angka termasuk bilangan ganjil\".\n",
    "\n",
    "Note: Anda bisa menggunakan materi-materi sebelumnya dengan menggabungkannya di tugas praktek ini untuk membantu anda dalam mengerjakan.\n",
    "\n",
    "Ketikan pada code cell di bawah ini pada editor:"
   ]
  },
  {
   "cell_type": "code",
   "execution_count": 0,
   "metadata": {
    "application/vnd.databricks.v1+cell": {
     "cellMetadata": {
      "byteLimit": 2048000,
      "rowLimit": 10000
     },
     "inputWidgets": {},
     "nuid": "9f8bd3e4-7004-4457-83bb-9c49436f83a2",
     "showTitle": false,
     "title": ""
    }
   },
   "outputs": [
    {
     "output_type": "stream",
     "name": "stdout",
     "output_type": "stream",
     "text": [
      "Angka termasuk bilangan genap\n"
     ]
    }
   ],
   "source": [
    "angka = 10\n",
    "\n",
    "if angka % 2 == 0:\n",
    "    print(\"Angka termasuk bilangan genap\")\n",
    "else:\n",
    "    print(\"Angka termasuk bilangan ganjil\")"
   ]
  },
  {
   "cell_type": "code",
   "execution_count": 0,
   "metadata": {
    "application/vnd.databricks.v1+cell": {
     "cellMetadata": {
      "byteLimit": 2048000,
      "rowLimit": 10000
     },
     "inputWidgets": {},
     "nuid": "3f41b684-42f2-4e61-bdb0-9d139cd6ff9e",
     "showTitle": false,
     "title": ""
    }
   },
   "outputs": [
    {
     "output_type": "stream",
     "name": "stdout",
     "output_type": "stream",
     "text": [
      "Angka termasuk bilangan ganjil\n"
     ]
    }
   ],
   "source": [
    "angka = 5\n",
    "\n",
    "if angka % 2 == 0:\n",
    "    print(\"Angka termasuk bilangan genap\")\n",
    "else:\n",
    "    print(\"Angka termasuk bilangan ganjil\")"
   ]
  }
 ],
 "metadata": {
  "application/vnd.databricks.v1+notebook": {
   "dashboards": [],
   "language": "python",
   "notebookMetadata": {
    "pythonIndentUnit": 4
   },
   "notebookName": "Lukman-Saleh-12211846_4_3",
   "widgets": {}
  }
 },
 "nbformat": 4,
 "nbformat_minor": 0
}
