{
 "cells": [
  {
   "cell_type": "code",
   "execution_count": 0,
   "metadata": {
    "application/vnd.databricks.v1+cell": {
     "cellMetadata": {},
     "inputWidgets": {},
     "nuid": "320cb7c6-36d4-4214-bedf-1fe2073d4584",
     "showTitle": false,
     "title": ""
    }
   },
   "outputs": [],
   "source": [
    "Operasi modulus\n",
    "\n",
    "Modulus memang jarang dipakai namun, dibeberapa kasus modulus sangat berguna untuk mempercepat proses perhitungan. Modulus sendiri merupakan fungsi yang akan menghitung sisa dari hasil pembagian. Untuk lebih jelasnya silahkan lakukan praktek di bawah ini :"
   ]
  },
  {
   "cell_type": "code",
   "execution_count": 0,
   "metadata": {
    "application/vnd.databricks.v1+cell": {
     "cellMetadata": {
      "byteLimit": 2048000,
      "rowLimit": 10000
     },
     "inputWidgets": {},
     "nuid": "814b6403-a5fa-4794-8530-3f29e5155f8e",
     "showTitle": false,
     "title": ""
    }
   },
   "outputs": [
    {
     "output_type": "stream",
     "name": "stdout",
     "output_type": "stream",
     "text": [
      "Hasil modulus 1\n"
     ]
    }
   ],
   "source": [
    "c=10\n",
    "d=3\n",
    "\n",
    "modulus=c%d\n",
    "print(\"Hasil modulus\",modulus)"
   ]
  },
  {
   "cell_type": "code",
   "execution_count": 0,
   "metadata": {
    "application/vnd.databricks.v1+cell": {
     "cellMetadata": {},
     "inputWidgets": {},
     "nuid": "86e58a83-6ab5-4686-9c9f-11a63c9c6ef9",
     "showTitle": false,
     "title": ""
    }
   },
   "outputs": [],
   "source": [
    "Kenapa modulus bisa seperti itu? (berikan jawaban anda pada cell teks diabawah ini)\n",
    "Jawab: \n",
    "karena modulus merupakan operasi aritmatik yang menghasilkan sisa pembagian dari suatu bilangan "
   ]
  }
 ],
 "metadata": {
  "application/vnd.databricks.v1+notebook": {
   "dashboards": [],
   "language": "python",
   "notebookMetadata": {
    "pythonIndentUnit": 4
   },
   "notebookName": "Lukman-Saleh-12211846_4_2",
   "widgets": {}
  }
 },
 "nbformat": 4,
 "nbformat_minor": 0
}
