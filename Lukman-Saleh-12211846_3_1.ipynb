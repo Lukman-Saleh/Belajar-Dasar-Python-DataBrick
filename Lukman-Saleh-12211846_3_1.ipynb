{
 "cells": [
  {
   "cell_type": "code",
   "execution_count": 0,
   "metadata": {
    "application/vnd.databricks.v1+cell": {
     "cellMetadata": {
      "byteLimit": 2048000,
      "rowLimit": 10000
     },
     "inputWidgets": {},
     "nuid": "dfc3e6ae-6270-4502-80ac-95f7a647a0c2",
     "showTitle": false,
     "title": ""
    }
   },
   "outputs": [
    {
     "output_type": "display_data",
     "data": {
      "text/plain": [
       "\u001B[0;36m  File \u001B[0;32m<command-2095831184060652>, line 4\u001B[0;36m\u001B[0m\n",
       "\u001B[0;31m    $i <= 2\u001B[0m\n",
       "\u001B[0m    ^\u001B[0m\n",
       "\u001B[0;31mSyntaxError\u001B[0m\u001B[0;31m:\u001B[0m invalid syntax\n"
      ]
     },
     "metadata": {
      "application/vnd.databricks.v1+output": {
       "addedWidgets": {},
       "arguments": {},
       "datasetInfos": [],
       "jupyterProps": {
        "ename": "SyntaxError",
        "evalue": "invalid syntax (command-2095831184060652-3253088922, line 4)"
       },
       "metadata": {
        "errorSummary": "<span class='ansi-red-fg'>SyntaxError</span>: invalid syntax (command-2095831184060652-3253088922, line 4)"
       },
       "removedWidgets": [],
       "sqlProps": null,
       "stackFrames": [
        "\u001B[0;36m  File \u001B[0;32m<command-2095831184060652>, line 4\u001B[0;36m\u001B[0m\n\u001B[0;31m    $i <= 2\u001B[0m\n\u001B[0m    ^\u001B[0m\n\u001B[0;31mSyntaxError\u001B[0m\u001B[0;31m:\u001B[0m invalid syntax\n"
       ],
       "type": "baseError"
      }
     },
     "output_type": "display_data"
    }
   ],
   "source": [
    "3.1. Tugas:\n",
    "Berikut ini adalah psudo code untuk melakukan pengecekan bertingkat\n",
    "\n",
    "i <= 2\n",
    "IF i < 7 THEN\n",
    "\tCETAK \"Nilai i kurang dari 7\"\n",
    "\tIF i < 3 THEN\n",
    "\t   CETAK \"Nilai i kurang dari 7 dan kurang dari 3\"\n",
    "\tELSE\n",
    "\t\tCETAK \"Nilai i kurang dari 7 tapi kurang dari 3\"\n",
    "Implekementasikan kode diatas dalam kode python. Ketikan code cell di bawah ini pada editor:"
   ]
  },
  {
   "cell_type": "code",
   "execution_count": 0,
   "metadata": {
    "application/vnd.databricks.v1+cell": {
     "cellMetadata": {
      "byteLimit": 2048000,
      "rowLimit": 10000
     },
     "inputWidgets": {},
     "nuid": "b112df2c-ed1f-4119-ae52-21f6521f0e79",
     "showTitle": false,
     "title": ""
    }
   },
   "outputs": [
    {
     "output_type": "stream",
     "name": "stdout",
     "output_type": "stream",
     "text": [
      "Nilai i kurang dari 7\nNilai i kurang dari 7 dan kurang dari 3\n"
     ]
    }
   ],
   "source": [
    "#Jawab Tugas 3.1\n",
    "i=2\n",
    "if i<7:\n",
    "    print(\"Nilai i kurang dari 7\")\n",
    "    if i<3:\n",
    "        print(\"Nilai i kurang dari 7 dan kurang dari 3\")\n",
    "    else:\n",
    "        print(\"Nilai kurang dari 7 tapi tidak kurang dari 3\")"
   ]
  }
 ],
 "metadata": {
  "application/vnd.databricks.v1+notebook": {
   "dashboards": [],
   "language": "python",
   "notebookMetadata": {
    "pythonIndentUnit": 4
   },
   "notebookName": "Lukman-Saleh-12211846_3_1",
   "widgets": {}
  }
 },
 "nbformat": 4,
 "nbformat_minor": 0
}
