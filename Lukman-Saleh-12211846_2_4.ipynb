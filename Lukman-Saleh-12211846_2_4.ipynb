{
 "cells": [
  {
   "cell_type": "code",
   "execution_count": 0,
   "metadata": {
    "application/vnd.databricks.v1+cell": {
     "cellMetadata": {
      "byteLimit": 2048000,
      "rowLimit": 10000
     },
     "inputWidgets": {},
     "nuid": "5cc5f830-b864-448f-a91b-4bc771f5e52b",
     "showTitle": false,
     "title": ""
    }
   },
   "outputs": [
    {
     "output_type": "stream",
     "name": "stdout",
     "output_type": "stream",
     "text": [
      "Tipe data Boolean:  True \n\nTipe Data String: Mari belajar Python\nBelajar Python Sangat Dengan Mudah \n\nTipe Data Integer:  20 \n\nTipe Data Float:  3.14 \n\nTipe Data List:  [1, 2, 3, 4, 5]\n['satu', 'dua', 'tiga'] \n\nTipe Data Tuple:  (1, 2, 3, 4, 5)\n('satu', 'dua', 'tiga') \n\n{'nama': 'Budi', 'umur': 20}\n{'nama': 'Andi', 'umur': 21}\nOut[6]: dict"
     ]
    }
   ],
   "source": [
    "#Mencetak Tipe Data\n",
    "#Praktik 2.4.1 Cobalah mengetik kode di bawah ini :\n",
    "\n",
    "#tipe data Boolean\n",
    "print(\"Tipe data Boolean: \",True,\"\\n\")\n",
    "\n",
    "#tipe data String\n",
    "print(\"Tipe Data String: Mari belajar Python\")\n",
    "print('Belajar Python Sangat Dengan Mudah',\"\\n\")\n",
    "\n",
    "#tipe data Integer\n",
    "print(\"Tipe Data Integer: \",20,\"\\n\")\n",
    "\n",
    "#tipe data Float\n",
    "print(\"Tipe Data Float: \",3.14,\"\\n\")\n",
    "\n",
    "#tipe data List\n",
    "print(\"Tipe Data List: \",[1,2,3,4,5])\n",
    "print([\"satu\", \"dua\", \"tiga\"],\"\\n\")\n",
    "\n",
    "#tipe data Tuple\n",
    "print(\"Tipe Data Tuple: \",(1,2,3,4,5))\n",
    "print((\"satu\", \"dua\", \"tiga\"),\"\\n\")\n",
    "\n",
    "#tipe data Dictionary\n",
    "print({\"nama\":\"Budi\", 'umur':20})\n",
    "\n",
    "#tipe data Dictionary dimasukan ke dalam variabel biodata\n",
    "biodata = {\"nama\":\"Andi\", 'umur':21} #proses inisialisasi variabel biodata\n",
    "print(biodata) #proses pencetakan variabel biodata yang berisi tipe data Dictionary\n",
    "type(biodata) #fungsi untuk mengecek jenis tipe data. akan tampil <class 'dict'>\n",
    "#pada pemrogaman diatas saya sisipkan \"\\n\" sebagai enter untuk merapikan baris"
   ]
  },
  {
   "cell_type": "code",
   "execution_count": 0,
   "metadata": {
    "application/vnd.databricks.v1+cell": {
     "cellMetadata": {
      "byteLimit": 2048000,
      "rowLimit": 10000
     },
     "inputWidgets": {},
     "nuid": "43c800b8-df73-4363-9a2e-1edac5ea9f7e",
     "showTitle": false,
     "title": ""
    }
   },
   "outputs": [
    {
     "output_type": "stream",
     "name": "stdout",
     "output_type": "stream",
     "text": [
      "Mari Belajar Python\n10\n3.14\n[1, 2, 3, 4]\n('satu', 'dua', 'tiga')\n{'nama': 'Ali', 'umur': 20}\n"
     ]
    }
   ],
   "source": [
    "#Tugas Praktek 3.3\n",
    "\n",
    "#1.Printing Data type menggunakan Variable. Ketikan kode di bawah ini pada Code Editor.\n",
    "\n",
    "var_string=\"Mari Belajar Python\"\n",
    "var_int=10\n",
    "var_float=3.14\n",
    "var_list=[1,2,3,4]\n",
    "var_tuple=(\"satu\",\"dua\",\"tiga\")\n",
    "var_dict={\"nama\":\"Ali\", 'umur':20}\n",
    "\n",
    "\n",
    "print(var_string)\n",
    "print(var_int)\n",
    "print(var_float)\n",
    "print(var_list)\n",
    "print(var_tuple)\n",
    "print(var_dict)"
   ]
  },
  {
   "cell_type": "code",
   "execution_count": 0,
   "metadata": {
    "application/vnd.databricks.v1+cell": {
     "cellMetadata": {
      "byteLimit": 2048000,
      "rowLimit": 10000
     },
     "inputWidgets": {},
     "nuid": "f3f796f9-a814-47a3-a33d-0806d8cd8b3c",
     "showTitle": false,
     "title": ""
    }
   },
   "outputs": [
    {
     "output_type": "stream",
     "name": "stdout",
     "output_type": "stream",
     "text": [
      "<class 'str'>\n<class 'int'>\n<class 'float'>\n<class 'list'>\n<class 'tuple'>\n<class 'dict'>\n"
     ]
    }
   ],
   "source": [
    "# 2. Tambahkan code di bawah ini untuk mengetahui type data dari suatu value di variabel.\n",
    "print(type(var_string))\n",
    "print(type(var_int))\n",
    "print(type(var_float))\n",
    "print(type(var_list))\n",
    "print(type(var_tuple))\n",
    "print(type(var_dict))"
   ]
  }
 ],
 "metadata": {
  "application/vnd.databricks.v1+notebook": {
   "dashboards": [],
   "language": "python",
   "notebookMetadata": {
    "pythonIndentUnit": 4
   },
   "notebookName": "Lukman-Saleh-12211846_2_4",
   "widgets": {}
  }
 },
 "nbformat": 4,
 "nbformat_minor": 0
}
